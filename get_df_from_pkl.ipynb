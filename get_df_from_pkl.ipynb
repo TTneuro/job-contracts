{
 "cells": [
  {
   "cell_type": "code",
   "execution_count": 3,
   "metadata": {},
   "outputs": [
    {
     "name": "stdout",
     "output_type": "stream",
     "text": [
      "                                                 title  \\\n",
      "0    Electrical and Electrical Products (New Brunsw...   \n",
      "1    Dental Services for Manitoba Region, FNIHB Pro...   \n",
      "2    Water and Wastewater Audits - Alberta / Britis...   \n",
      "3        Request for Information-Indigenous Businesses   \n",
      "4                One (1) Intermediate Technical Writer   \n",
      "..                                                 ...   \n",
      "679  W6369-23P5PF - IT Engineering Professional Ser...   \n",
      "680         F1571-230228 RISO - Electrical Engineering   \n",
      "681  MOUNTAIN TRAINING, ACCOMMODATIONS AND ADVISORY...   \n",
      "682  Publicly Available Specification - Coastal Pro...   \n",
      "683         W2481-24P001 Dimensioning Scanning Systems   \n",
      "\n",
      "                referenceNumber amendmentNumber solicitationNumber  \\\n",
      "0               cb-110-81915972             000      W2037-25-0026   \n",
      "1               cb-164-16328531             000        1000225968C   \n",
      "2               cb-167-77211817             000       01R11-25-012   \n",
      "3               cb-174-46779318             000          100024837   \n",
      "4               cb-176-15963278             000     W8486-249648/A   \n",
      "..                          ...             ...                ...   \n",
      "679  WS4534876079-Doc4601242810             007       WS4534876079   \n",
      "680  WS4484045092-Doc4565044501             005       WS4484045092   \n",
      "681             cb-126-53984849             002      W6399-25-RI05   \n",
      "682             cb-797-71501685             003            2024-05   \n",
      "683  WS4606625036-Doc4606679608             001       WS4606625036   \n",
      "\n",
      "    publicationDate    tenderClosingDate amendmentDate  \\\n",
      "0        2024-06-11  2024-06-25T11:00:00                 \n",
      "1        2024-06-21  2025-03-31T14:00:00                 \n",
      "2        2024-06-07  2024-07-16T13:00:00                 \n",
      "3        2024-02-22  2024-08-30T14:00:00                 \n",
      "4        2024-06-20  2024-07-05T14:00:00                 \n",
      "..              ...                  ...           ...   \n",
      "679      2024-05-23  2024-07-04T14:00:00    2024-06-21   \n",
      "680      2024-05-01  2024-07-05T14:00:00    2024-06-21   \n",
      "681      2024-05-22  2024-06-25T14:00:00    2024-06-22   \n",
      "682      2024-05-27  2024-07-12T16:00:00    2024-06-23   \n",
      "683      2024-06-07  2024-07-10T14:00:00    2024-06-24   \n",
      "\n",
      "    expectedContractStartDate expectedContractEndDate tenderStatus  ...  \\\n",
      "0                  2024-07-01              2024-08-31         Open  ...   \n",
      "1                  2024-07-01              2025-03-31         Open  ...   \n",
      "2                                                             Open  ...   \n",
      "3                                                             Open  ...   \n",
      "4                                                             Open  ...   \n",
      "..                        ...                     ...          ...  ...   \n",
      "679                                                           Open  ...   \n",
      "680                2024-07-01              2026-06-30         Open  ...   \n",
      "681                2024-07-31              2024-08-18         Open  ...   \n",
      "682                                                           Open  ...   \n",
      "683                2024-08-16              2024-11-30         Open  ...   \n",
      "\n",
      "    contactInfoPhone contactInfoFax              contactInfoAddressLine  \\\n",
      "0     (506) 422-2000                                                      \n",
      "1        000000-0000                                  10 rue Wellington   \n",
      "2     (306) 515-4796                                                      \n",
      "3     (999) 999-9999                 140 Promenade du Portage, Phase IV   \n",
      "4     (343) 598-1547                                                      \n",
      "..               ...            ...                                 ...   \n",
      "679                                                                       \n",
      "680                                                                       \n",
      "681   (613) 949-4819                               101 Colonel By Drive   \n",
      "682      613238-3222                             55 Metcalfe, Suite 600   \n",
      "683                                                                       \n",
      "\n",
      "    contactInfoCity contactInfoProvince contactInfoPostalcode  \\\n",
      "0                                              (506) 422-2000   \n",
      "1          Gatineau              Québec           000000-0000   \n",
      "2                                              (306) 515-4796   \n",
      "3          Gatineau              Quebec        (999) 999-9999   \n",
      "4                                              (343) 598-1547   \n",
      "..              ...                 ...                   ...   \n",
      "679                                                             \n",
      "680                                                             \n",
      "681          Ottawa             Ontario        (613) 949-4819   \n",
      "682          Ottawa             Ontario           613238-3222   \n",
      "683                                                             \n",
      "\n",
      "    contactInfoCountry                                          noticeURL  \\\n",
      "0                                                                           \n",
      "1               Canada                                                      \n",
      "2                                                                           \n",
      "3               Canada                                                      \n",
      "4                                                                           \n",
      "..                 ...                                                ...   \n",
      "679                     https://discovery.ariba.com/rfx/19799713?extsi...   \n",
      "680                     https://discovery.ariba.com/rfx/19569799?extsi...   \n",
      "681             Canada                                                      \n",
      "682             Canada                                                      \n",
      "683                     https://discovery.ariba.com/rfx/19953509?extsi...   \n",
      "\n",
      "                                            attachment  \\\n",
      "0    https://canadabuys.canada.ca/sites/default/fil...   \n",
      "1    https://canadabuys.canada.ca/sites/default/fil...   \n",
      "2    https://canadabuys.canada.ca/sites/default/fil...   \n",
      "3    https://canadabuys.canada.ca/sites/default/fil...   \n",
      "4                                                        \n",
      "..                                                 ...   \n",
      "679                                                      \n",
      "680                                                      \n",
      "681  https://canadabuys.canada.ca/sites/default/fil...   \n",
      "682  https://canadabuys.canada.ca/sites/default/fil...   \n",
      "683                                                      \n",
      "\n",
      "                                     tenderDescription  \n",
      "0    The Department of National Defence has a requi...  \n",
      "1    Indigenous Services Canada (ISC), First Nation...  \n",
      "2    DESCRIPTION:\\nAgriculture and Agri-Food Canada...  \n",
      "3    Employment and Social Development Canada (ESDC...  \n",
      "4    NOTICE OF PROPOSED PROCUREMENT\\n\\nFile Number:...  \n",
      "..                                                 ...  \n",
      "679  AMENDMENT TO CLOSING TIME: Please disregard th...  \n",
      "680  Public Works and Government Services Canada (P...  \n",
      "681  The Department of National Defence (DND) has a...  \n",
      "682  SCC is seeking a Supplier to develop a guide, ...  \n",
      "683  AMENDMENT TO CLOSING TIME: Please disregard th...  \n",
      "\n",
      "[684 rows x 42 columns]\n"
     ]
    }
   ],
   "source": [
    "import pickle\n",
    "import pandas as pd\n",
    "import subprocess\n",
    "\n",
    "# Replace 'path_to_your_file.pkl' with the actual path to your PKL file\n",
    "file_path = 'df.pkl'\n",
    "\n",
    "# Open the file in binary mode and load the data\n",
    "with open(file_path, 'rb') as file:\n",
    "    df = pickle.load(file)\n",
    "\n",
    "# Now 'data' contains the deserialized Python object\n",
    "print(df)"
   ]
  },
  {
   "cell_type": "code",
   "execution_count": 11,
   "metadata": {},
   "outputs": [
    {
     "data": {
      "text/plain": [
       "True"
      ]
     },
     "execution_count": 11,
     "metadata": {},
     "output_type": "execute_result"
    }
   ],
   "source": [
    "not df.loc[15,'title']"
   ]
  },
  {
   "cell_type": "code",
   "execution_count": 22,
   "metadata": {},
   "outputs": [
    {
     "name": "stdout",
     "output_type": "stream",
     "text": [
      "106\n"
     ]
    }
   ],
   "source": [
    "# there are 106 null entries\n",
    "nullCount = 0\n",
    "for index, row in df.iterrows():\n",
    "    if not row.iloc[0]:\n",
    "        nullCount = nullCount + 1\n",
    "print(nullCount)"
   ]
  },
  {
   "cell_type": "code",
   "execution_count": 6,
   "metadata": {},
   "outputs": [
    {
     "name": "stdout",
     "output_type": "stream",
     "text": [
      ",\n",
      "\\n\n",
      ",\n",
      "\\n\n",
      "\\n\n",
      ",\n",
      ",\n",
      ",\n",
      ",\n",
      ",\n",
      ",\n",
      ",\n",
      ",\n",
      ",\n",
      ",\n",
      ",\n",
      ",\n",
      "17\n"
     ]
    }
   ],
   "source": [
    "# there are actually 106 + 17 null entries\n",
    "nullCount = 0\n",
    "for index, row in df.iterrows():\n",
    "    if len(row.iloc[0]) < 3 and row.iloc[0]:\n",
    "        print(row.iloc[0])\n",
    "        nullCount = nullCount + 1\n",
    "print(nullCount)"
   ]
  },
  {
   "cell_type": "code",
   "execution_count": 7,
   "metadata": {},
   "outputs": [
    {
     "name": "stdout",
     "output_type": "stream",
     "text": [
      "Row 684/684\n",
      "Title: W2481-24P001 Dimensioning Scanning Systems\n",
      "Tender Description:\n",
      "AMENDMENT TO CLOSING TIME: Please disregard the Ariba Discovery posting response\n",
      "deadline closing time and CanadaBuys posting closing time. All required\n",
      "supporting documentation and bid submission must be submitted by 10 July 2024 at\n",
      "2:00 PM EDT. All bids submitted after 2:00 PM EDT will result in the bid being\n",
      "declared non-responsive. The Department of National Defence has a requirement\n",
      "for the acquisition of quantity five (5) static and mobile dimensioning scanning\n",
      "systems in order to achieve efficiencies, both financially and physically. These\n",
      "dimensioning systems are to automatically obtain the volume, dimensions and\n",
      "weight accurately and rapidly in accordance with the specifications identified\n",
      "herein.\n",
      "End of DataFrame. Saved row indices: [142, 157, 164, 174, 222, 230, 231, 244, 292, 308, 312, 317, 419, 433, 443, 528, 577, 636, 640]\n"
     ]
    }
   ],
   "source": [
    "import pandas as pd\n",
    "\n",
    "\n",
    "\n",
    "# List to store indices of rows to save\n",
    "saved_indices = []\n",
    "\n",
    "# Function to display rows one by one with line breaks in the tenderDescription\n",
    "def display_rows(df, width=80):\n",
    "    import IPython.display as display\n",
    "    from IPython.display import clear_output\n",
    "    import textwrap\n",
    "\n",
    "    i = 0\n",
    "    while i < len(df):\n",
    "        clear_output(wait=True)\n",
    "        if len(df.iloc[i]['title'])<3: # dont show null entries\n",
    "            i += 1\n",
    "\n",
    "            \n",
    "            continue\n",
    "        print(f\"Row {i+1}/{len(df)}\")\n",
    "        print(f\"Title: {df.iloc[i]['title']}\")\n",
    "        \n",
    "        wrapped_description = textwrap.fill(df.iloc[i]['tenderDescription'], width=width)\n",
    "        print(f\"Tender Description:\\n{wrapped_description}\")\n",
    "        \n",
    "        user_input = input(\"Enter 'i or y' to save and go to the next entry, 'n' to go to the next entry, 'p' to go to the previous entry, 'exit' to exit: \").strip().lower()\n",
    "        \n",
    "        if user_input == 'y' or user_input == 'i':\n",
    "            saved_indices.append(i)\n",
    "            i += 1\n",
    "        elif user_input == 'n':\n",
    "            i += 1\n",
    "        elif user_input == 'p':\n",
    "            if i > 0:\n",
    "                i -= 1\n",
    "            else:\n",
    "                print(\"Already at the first entry.\")\n",
    "        elif user_input == 'exit':\n",
    "            break\n",
    "        else:\n",
    "            print(\"Invalid input, please enter 'i', 'n', or 'p'.\")\n",
    "\n",
    "    print(\"End of DataFrame. Saved row indices:\", saved_indices)\n",
    "\n",
    "# Call the function\n",
    "display_rows(df)\n"
   ]
  },
  {
   "cell_type": "code",
   "execution_count": 12,
   "metadata": {},
   "outputs": [
    {
     "data": {
      "text/plain": [
       "'Public Works and Government Services Canada (PWGSC) is issuing this Call for Proposals (CFP) on behalf of the Department of National Defence’s (DND) Innovation for Defence Excellence and Security (IDEaS) program, seeking innovative science and technology (S&T) solutions to Canada’s defence and security Challenges.  \\\\n   \\\\nThis CFP will be published on an ongoing basis for PWGSC to post DND Challenges. Challenges issued under this CFP will be published on an ongoing basis and will be listed on this page. Details related to each Challenge and their specific closing dates, which will form part of this CFP solicitation, can be found by following the links below.   \\\\n   \\\\nThis CFP invites proposals for Component 1a only.  \\\\n   \\\\nAll information related to the Program, Proposal Submission, Evaluation Procedures, Basis of Selection, Evaluation Criteria, Resulting Contract Clauses, Certifications and Additional Information are contained in the CFP event and its amendments and attachments.'"
      ]
     },
     "execution_count": 12,
     "metadata": {},
     "output_type": "execute_result"
    }
   ],
   "source": [
    "df.iloc[157]['tenderDescription']"
   ]
  },
  {
   "cell_type": "code",
   "execution_count": null,
   "metadata": {},
   "outputs": [],
   "source": []
  }
 ],
 "metadata": {
  "kernelspec": {
   "display_name": "Python 3",
   "language": "python",
   "name": "python3"
  },
  "language_info": {
   "codemirror_mode": {
    "name": "ipython",
    "version": 3
   },
   "file_extension": ".py",
   "mimetype": "text/x-python",
   "name": "python",
   "nbconvert_exporter": "python",
   "pygments_lexer": "ipython3",
   "version": "3.10.13"
  }
 },
 "nbformat": 4,
 "nbformat_minor": 2
}
